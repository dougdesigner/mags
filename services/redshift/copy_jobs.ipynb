{
 "cells": [
  {
   "cell_type": "markdown",
   "metadata": {
    "displayMode": "maximized",
    "isLimitOn": true,
    "width": 12
   },
   "source": [
    "# COPY Commands"
   ]
  },
  {
   "cell_type": "markdown",
   "metadata": {
    "displayMode": "maximized",
    "isLimitOn": true,
    "width": 12
   },
   "source": [
    "## concentration_metrics table"
   ]
  },
  {
   "cell_type": "code",
   "execution_count": 0,
   "metadata": {
    "displayMode": "maximized",
    "isLimitOn": true,
    "vscode": {
     "languageId": "redshift"
    },
    "width": 12
   },
   "outputs": [],
   "source": [
    "COPY market_data.concentration_metrics\n",
    "FROM 's3://magnificent7-market-data/analytics/concentration_metrics/'\n",
    "IAM_ROLE default\n",
    "FORMAT AS PARQUET\n",
    "JOB CREATE concentration_metrics_load\n",
    "AUTO ON;"
   ]
  },
  {
   "cell_type": "markdown",
   "metadata": {
    "displayMode": "maximized",
    "isLimitOn": true,
    "width": 12
   },
   "source": [
    "## company_details table"
   ]
  },
  {
   "cell_type": "code",
   "execution_count": 0,
   "metadata": {
    "displayMode": "maximized",
    "isLimitOn": true,
    "vscode": {
     "languageId": "redshift"
    },
    "width": 12
   },
   "outputs": [],
   "source": [
    "COPY market_data.company_details\n",
    "FROM 's3://magnificent7-market-data/analytics/company_details/'\n",
    "IAM_ROLE default\n",
    "FORMAT AS PARQUET\n",
    "JOB CREATE company_details_load\n",
    "AUTO ON;"
   ]
  },
  {
   "cell_type": "markdown",
   "metadata": {
    "displayMode": "maximized",
    "isLimitOn": true,
    "width": 12
   },
   "source": [
    "## daily_trading tables"
   ]
  },
  {
   "cell_type": "code",
   "execution_count": 0,
   "metadata": {
    "displayMode": "maximized",
    "isLimitOn": true,
    "vscode": {
     "languageId": "redshift"
    },
    "width": 12
   },
   "outputs": [],
   "source": [
    "COPY market_data.daily_trading\n",
    "FROM 's3://magnificent7-market-data/analytics/daily_trading/'\n",
    "IAM_ROLE default\n",
    "FORMAT AS PARQUET\n",
    "JOB CREATE daily_trading_load\n",
    "AUTO ON;"
   ]
  },
  {
   "cell_type": "markdown",
   "metadata": {
    "displayMode": "maximized",
    "isLimitOn": true,
    "width": 12
   },
   "source": [
    "## magnificent7_metrics table"
   ]
  },
  {
   "cell_type": "code",
   "execution_count": 0,
   "metadata": {
    "displayMode": "maximized",
    "isLimitOn": true,
    "vscode": {
     "languageId": "redshift"
    },
    "width": 12
   },
   "outputs": [],
   "source": [
    "COPY market_data.magnificent7_metrics\n",
    "FROM 's3://magnificent7-market-data/analytics/magnificent7_metrics/'\n",
    "IAM_ROLE default\n",
    "FORMAT AS PARQUET\n",
    "JOB CREATE magnificent7_metrics_load\n",
    "AUTO ON;"
   ]
  },
  {
   "cell_type": "markdown",
   "metadata": {
    "displayMode": "maximized",
    "isLimitOn": true,
    "width": 12
   },
   "source": [
    "## failed_collections table"
   ]
  },
  {
   "cell_type": "code",
   "execution_count": 0,
   "metadata": {
    "displayMode": "maximized",
    "isLimitOn": true,
    "vscode": {
     "languageId": "redshift"
    },
    "width": 12
   },
   "outputs": [],
   "source": [
    "COPY market_data.failed_collections\n",
    "FROM 's3://magnificent7-market-data/analytics/failed_collections/'\n",
    "IAM_ROLE default\n",
    "FORMAT AS PARQUET\n",
    "JOB CREATE failed_collections_load\n",
    "AUTO ON;"
   ]
  },
  {
   "cell_type": "markdown",
   "metadata": {
    "displayMode": "maximized",
    "isLimitOn": true,
    "width": 12
   },
   "source": [
    "To process all existing data, run the following sequence of commands to run each COPY job."
   ]
  },
  {
   "cell_type": "code",
   "execution_count": 0,
   "metadata": {
    "displayMode": "maximized",
    "isLimitOn": true,
    "vscode": {
     "languageId": "redshift"
    },
    "width": 12
   },
   "outputs": [],
   "source": [
    "-- Check the status of all jobs\n",
    "SELECT *\n",
    "FROM sys_copy_job\n",
    "ORDER BY job_name;"
   ]
  }
 ],
 "metadata": {
  "kernelspec": {
   "display_name": "Redshift",
   "language": "postgresql",
   "name": "Redshift"
  },
  "language_info": {
   "file_extension": ".sql",
   "name": "Redshift"
  },
  "title": "COPY Commands",
  "version": 1
 },
 "nbformat": 4,
 "nbformat_minor": 0
}
